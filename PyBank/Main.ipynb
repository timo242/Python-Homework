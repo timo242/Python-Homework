{
 "cells": [
  {
   "cell_type": "code",
   "execution_count": null,
   "id": "5018a9f6-39db-481e-a15f-db1b06707cce",
   "metadata": {},
   "outputs": [],
   "source": [
    "# PyBank Main\n",
    "\n",
    "# From the pathlib library, import the main class Path\n",
    "from pathlib import Path\n",
    "import csv\n",
    "\n",
    "# The current directory where PyBank (Main.pynb) program is executing from\n",
    "print(f\"Current Working Directory: {Path.cwd()}\")\n",
    "\n",
    "# Set the path using Pathlib for Budget_data.csv\n",
    "csvpath = Path('Resources/budget_data.csv')"
   ]
  },
  {
   "cell_type": "code",
   "execution_count": null,
   "id": "26230f12-4410-4c91-8309-8ad27bb57255",
   "metadata": {},
   "outputs": [],
   "source": [
    "# TEST CODE AND MODIFY\n",
    "\n",
    "\n",
    "\n",
    "# Open PyBank Budget as an object\n",
    "with open(csvpath, 'r') as csvfile:\n",
    "    \n",
    "    csvreader = csv.reader(csvfile, delimiter=',')\n",
    "    # Print the data type of the csvreader\n",
    "    # print(type(csvfile))\n",
    "    # Read the header row first then interate line_num by 1\n",
    "    csv_header = next(csvreader)  \n",
    "    \n",
    "    # initialize line_num Variable for number of momths\n",
    "    number_of_months = 0\n",
    "    \n",
    "    # intialize list for PyBank data\n",
    "    \n",
    "    month = []\n",
    "    monthly_pnl = []\n",
    "    change = []\n",
    "    \n",
    "       #iterate through the values and add them to the empty list \n",
    "    for row in csvreader:\n",
    "        \n",
    "        # interate to get number of months\n",
    "        number_of_months += 1 \n",
    "        \n",
    "        #  lists of months\n",
    "        month.append(row[0]) \n",
    "        \n",
    "        # list and define incoming (str) revenue data in itergers\n",
    "        monthly_pnl.append(int(row[1]))\n",
    "        \n",
    "    # loop to revenue in list and subtract the the value in the next index. \"-1\" means to end of list currently the value in \"monthly_pnl\"    \n",
    "    for i in range(len(monthly_pnl)-1):  \n",
    "        \n",
    "        #  Append change[] - \"[i+1]\" next index and subtract it (monthly_pnl - next monthly_pnl) \n",
    "        change.append(monthly_pnl[i+1]-monthly_pnl[i])\n",
    "\n",
    "        # Comment out the \"proving of the logic\"\n",
    "        \n",
    "        # print(number_of_months)\n",
    "        # print(month_count)\n",
    "        # print(monthly_pnl)\n",
    "        # print(change)"
   ]
  },
  {
   "cell_type": "code",
   "execution_count": null,
   "id": "c42d6736-ab6c-4c0c-b996-45f4ab5f4a31",
   "metadata": {},
   "outputs": [],
   "source": [
    "#Use 'max' to return its biggest item. use 'min' to return its smallest item.\n",
    "increase = max(change)\n",
    "decrease = min(change)\n",
    "\n",
    "# Aasign an index to a variable - there is no change for the first month of change[], index [0] is index \"+1\" \n",
    "# to reference other columns\n",
    "greatest_month_of_increase = change.index(max(change))+1\n",
    "greatest_month_of_decrease = change.index(min(change))+1\n",
    "\n",
    "    # Comment out the proving of the logic\n",
    "    \n",
    "    # print(increase)\n",
    "    # print(decrease)\n",
    "    # print(greatest_month_of_increase)\n",
    "    # print(greatest_month_of_decrease)\n",
    "    # print(month[greatest_month_of_increase])\n",
    "    # print(month[greatest_month_of_decrease])"
   ]
  },
  {
   "cell_type": "code",
   "execution_count": null,
   "id": "635e5120-b1dd-4d71-80fb-126b139baaac",
   "metadata": {},
   "outputs": [],
   "source": [
    "# The total number of months included in the dataset.\n",
    "\n",
    "# The net total amount of Profit/Losses over the entire period.\n",
    "\n",
    "# The average of the changes in Profit/Losses over the entire period.\n",
    "    #   round 2 decimal places,  sum the total of all \"change\", and divide by length of list change\n",
    "    #   print(f\"Average Change: {round(sum(change) / len(change),2)}\")\n",
    "\n",
    "# The greatest increase in profits (date and amount) over the entire period.\n",
    "\n",
    "# The greatest decrease in losses (date and amount) over the entire period."
   ]
  },
  {
   "cell_type": "code",
   "execution_count": 67,
   "id": "73d9d296-a2b8-4c09-95da-e8054eab025d",
   "metadata": {},
   "outputs": [
    {
     "name": "stdout",
     "output_type": "stream",
     "text": [
      "Financial Analysis\n",
      "-----------------------------\n",
      "Total Months: 86\n",
      "Total: $(38382578)\n",
      "Average Change: -2315.12%\n",
      "Greatest Increase in Profits: Feb-2012 ($1926159)\n",
      "Greatest Increase in Profits: Sep-2013 ($-2196167)\n"
     ]
    }
   ],
   "source": [
    "print(\"Financial Analysis\")\n",
    "print(\"-----------------------------\")\n",
    "print(f\"Total Months: {number_of_months}\")\n",
    "print(f\"Total: $({sum(monthly_pnl)})\")\n",
    "print(f\"Average Change: {round(sum(change) / len(change),2)}%\")\n",
    "print(f\"Greatest Increase in Profits: {month[greatest_month_of_increase]} (${increase})\")\n",
    "print(f\"Greatest Increase in Profits: {month[greatest_month_of_decrease]} (${decrease})\") "
   ]
  }
 ],
 "metadata": {
  "kernelspec": {
   "display_name": "Python 3 (ipykernel)",
   "language": "python",
   "name": "python3"
  },
  "language_info": {
   "codemirror_mode": {
    "name": "ipython",
    "version": 3
   },
   "file_extension": ".py",
   "mimetype": "text/x-python",
   "name": "python",
   "nbconvert_exporter": "python",
   "pygments_lexer": "ipython3",
   "version": "3.7.15"
  }
 },
 "nbformat": 4,
 "nbformat_minor": 5
}
