{
 "cells": [
  {
   "cell_type": "code",
   "execution_count": null,
   "id": "5018a9f6-39db-481e-a15f-db1b06707cce",
   "metadata": {},
   "outputs": [],
   "source": [
    "# PyBank Main"
   ]
  },
  {
   "cell_type": "code",
   "execution_count": null,
   "id": "b14d1305-c72d-40be-b090-8c44df2e57d7",
   "metadata": {},
   "outputs": [],
   "source": [
    "# The total number of months included in the dataset."
   ]
  },
  {
   "cell_type": "code",
   "execution_count": null,
   "id": "7bdad684-2b0c-4c87-bd91-b8c6fec7bb3f",
   "metadata": {},
   "outputs": [],
   "source": [
    "# The net total amount of Profit/Losses over the entire period."
   ]
  },
  {
   "cell_type": "code",
   "execution_count": null,
   "id": "72505025-f48c-470f-89ee-109b7ece9d67",
   "metadata": {},
   "outputs": [],
   "source": [
    "# The greatest increase in profits (date and amount) over the entire period."
   ]
  },
  {
   "cell_type": "code",
   "execution_count": null,
   "id": "56985e83-9eca-4a3e-9153-b8627f2ce99c",
   "metadata": {},
   "outputs": [],
   "source": [
    "# The greatest decrease in losses (date and amount) over the entire period"
   ]
  },
  {
   "cell_type": "code",
   "execution_count": null,
   "id": "993a19d7-9626-49a4-8093-84fb50bb0c11",
   "metadata": {},
   "outputs": [],
   "source": [
    "'''\n",
    "\n",
    "Your resulting analysis should look similar to the following:\n",
    "\n",
    "Financial Analysis\n",
    "----------------------------\n",
    "Total Months: 86\n",
    "Total: $38382578\n",
    "  Average  Change: $-2315.12\n",
    "Greatest Increase in Profits: Feb-2012 ($1926159)\n",
    "  Greatest Decrease in Profits: Sep-2013 ($-2196167)\n",
    "Your final script should print the analysis to the terminal and export a text file with the results\n",
    "\n",
    "'''\n",
    "\n"
   ]
  }
 ],
 "metadata": {
  "kernelspec": {
   "display_name": "Python 3 (ipykernel)",
   "language": "python",
   "name": "python3"
  },
  "language_info": {
   "codemirror_mode": {
    "name": "ipython",
    "version": 3
   },
   "file_extension": ".py",
   "mimetype": "text/x-python",
   "name": "python",
   "nbconvert_exporter": "python",
   "pygments_lexer": "ipython3",
   "version": "3.7.15"
  }
 },
 "nbformat": 4,
 "nbformat_minor": 5
}
