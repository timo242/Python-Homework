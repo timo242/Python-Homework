{
 "cells": [
  {
   "cell_type": "code",
   "execution_count": 89,
   "id": "5018a9f6-39db-481e-a15f-db1b06707cce",
   "metadata": {},
   "outputs": [
    {
     "name": "stdout",
     "output_type": "stream",
     "text": [
      "Current Working Directory: D:\\Local_Fintech\\Git-Ldock\\Python-Homework\\PyBank\n",
      "Jan-2010\n",
      "[867884, 984655, 322013, -69417, 310503, 522857, 1033096, 604885, -216386, 477532, 893810, -80353, 779806, -335203, 697845, 793163, 485070, 584122, 62729, 668179, 899906, 834719, 132003, 309978, -755566, 1170593, 252788, 1151518, 817256, 570757, 506702, -1022534, 475062, 779976, 144175, 542494, 359333, 321469, 67780, 471435, 565603, 872480, 789480, 999942, -1196225, 268997, -687986, 1150461, 682458, 617856, 824098, 581943, 132864, 448062, 689161, 800701, 1166643, 947333, 578668, 988505, 1139715, 1029471, 687533, -524626, 158620, 87795, 423389, 840723, 568529, 332067, 989499, 778237, 650000, -1100387, -174946, 757143, 445709, 712961, -1163797, 569899, 768450, 102685, 795914, 60988, 138230, 671099]\n"
     ]
    }
   ],
   "source": [
    "# PyBank Main\n",
    "\n",
    "# From the pathlib library, import the main class Path\n",
    "from pathlib import Path\n",
    "import csv\n",
    "\n",
    "# Initialize PyBank buget records\n",
    "months = []\n",
    "profit_total = []\n",
    "profit_loss_change = []\n",
    "\n",
    "count_months = 0\n",
    "net_profit_loss = 0\n",
    "previous_month_profit_loss = 0\n",
    "current_month_profit_loss = 0\n",
    "\n",
    "\n",
    "# The current directory where PyBank (Main.pynb) program is executing from\n",
    "print(f\"Current Working Directory: {Path.cwd()}\")\n",
    "\n",
    "# Set the path using Pathlib for Budget_data.csv\n",
    "csvpath = Path('Resources/budget_data.csv')\n",
    "\n",
    "\n",
    "# Open the csv file as an object\n",
    "with open(csvpath, 'r') as csvfile:\n",
    "\n",
    "# Pass in the csv file to the csv.reader() function\n",
    "    # (with ',' as the delmiter/separator) and return the csvreader object\n",
    "    csvreader = csv.reader(csvfile, delimiter=',')\n",
    "    \n",
    "    # Read the header row first (skip this step if there is no header)\n",
    "    csv_header = next(csvreader)\n",
    "    # Print the header\n",
    "    # print(csv_header)\n",
    "    \n",
    "    # Iterate through the rows in the stored file contents\n",
    "    for row in csvreader:\n",
    "        \n",
    "        # Append the total months and total profit to their corresponding lists\n",
    "        months.append([0])\n",
    "        profit_total.append(int(row[1]))\n",
    "    \n",
    "print(month)\n",
    "print(profit_total)    \n",
    "    \n",
    "    # Read each row of data after the header\n",
    "    # for row in csvreader:\n",
    "        # Print the row\n",
    "     #   print(row)\n",
    "        \n"
   ]
  },
  {
   "cell_type": "code",
   "execution_count": 72,
   "id": "26230f12-4410-4c91-8309-8ad27bb57255",
   "metadata": {},
   "outputs": [
    {
     "name": "stdout",
     "output_type": "stream",
     "text": [
      "Jan-2010\n"
     ]
    }
   ],
   "source": [
    "print(month)"
   ]
  },
  {
   "cell_type": "code",
   "execution_count": null,
   "id": "b14d1305-c72d-40be-b090-8c44df2e57d7",
   "metadata": {},
   "outputs": [],
   "source": [
    "# The total number of months included in the dataset\n",
    "\n",
    "\n"
   ]
  },
  {
   "cell_type": "code",
   "execution_count": null,
   "id": "7bdad684-2b0c-4c87-bd91-b8c6fec7bb3f",
   "metadata": {},
   "outputs": [],
   "source": [
    "# The net total amount of Profit/Losses over the entire period."
   ]
  },
  {
   "cell_type": "code",
   "execution_count": null,
   "id": "72505025-f48c-470f-89ee-109b7ece9d67",
   "metadata": {},
   "outputs": [],
   "source": [
    "# The greatest increase in profits (date and amount) over the entire period."
   ]
  },
  {
   "cell_type": "code",
   "execution_count": null,
   "id": "56985e83-9eca-4a3e-9153-b8627f2ce99c",
   "metadata": {},
   "outputs": [],
   "source": [
    "# The greatest decrease in losses (date and amount) over the entire period"
   ]
  },
  {
   "cell_type": "code",
   "execution_count": null,
   "id": "993a19d7-9626-49a4-8093-84fb50bb0c11",
   "metadata": {},
   "outputs": [],
   "source": [
    "'''\n",
    "\n",
    "Your resulting analysis should look similar to the following:\n",
    "\n",
    "Financial Analysis\n",
    "----------------------------\n",
    "Total Months: 86\n",
    "Total: $38382578\n",
    "  Average  Change: $-2315.12\n",
    "Greatest Increase in Profits: Feb-2012 ($1926159)\n",
    "  Greatest Decrease in Profits: Sep-2013 ($-2196167)\n",
    "Your final script should print the analysis to the terminal and export a text file with the results\n",
    "\n",
    "'''\n",
    "\n"
   ]
  }
 ],
 "metadata": {
  "kernelspec": {
   "display_name": "Python 3 (ipykernel)",
   "language": "python",
   "name": "python3"
  },
  "language_info": {
   "codemirror_mode": {
    "name": "ipython",
    "version": 3
   },
   "file_extension": ".py",
   "mimetype": "text/x-python",
   "name": "python",
   "nbconvert_exporter": "python",
   "pygments_lexer": "ipython3",
   "version": "3.7.15"
  }
 },
 "nbformat": 4,
 "nbformat_minor": 5
}
